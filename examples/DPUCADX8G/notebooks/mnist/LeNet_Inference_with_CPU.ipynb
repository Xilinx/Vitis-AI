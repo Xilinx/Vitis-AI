{
 "cells": [
  {
   "cell_type": "markdown",
   "metadata": {},
   "source": [
    "# LeNet Inference with Cloud CPU"
   ]
  },
  {
   "cell_type": "markdown",
   "metadata": {},
   "source": [
    "This tutorial demonstrates the steps for hand-writing digit recognition using ML with classic LeNet. Pure CPU is used for the computation.\n",
    "1. Use Windows Paint tool to open a square canvas, fill the background with black, and draw a digit (0 - 9) with white brush, save as **input.png**\n",
    "2. Upload the **input.png** file to the home directory\n",
    "3. Run the code in this page\n"
   ]
  },
  {
   "cell_type": "markdown",
   "metadata": {},
   "source": [
    "Below is an example for the **input.png** file:\n",
    "![test](./example.png)"
   ]
  },
  {
   "cell_type": "markdown",
   "metadata": {},
   "source": [
    "The pre-trained nerual network model includes following files:\n",
    "* **lenet.prototxt**: Caffe PROTOTXT file\n",
    "* **lenet_iter_10000.caffemodel**: Caffe model parameters file"
   ]
  },
  {
   "cell_type": "markdown",
   "metadata": {},
   "source": [
    "### Prepare input image and finish pre-processing"
   ]
  },
  {
   "cell_type": "code",
   "execution_count": null,
   "metadata": {},
   "outputs": [],
   "source": [
    "# INPUT_IMAGE is the input file name\n",
    "# SMALL_IMAGE is the 28x28 size image generated from the input image\n",
    "INPUT_IMAGE = './input.png'\n",
    "SMALL_IMAGE = './small.png'"
   ]
  },
  {
   "cell_type": "code",
   "execution_count": null,
   "metadata": {},
   "outputs": [],
   "source": [
    "# display the input image file\n",
    "from IPython.display import Image as NBImage\n",
    "NBImage(INPUT_IMAGE)"
   ]
  },
  {
   "cell_type": "code",
   "execution_count": null,
   "metadata": {},
   "outputs": [],
   "source": [
    "# Preprossing: scale the input input image to 28x28 size, and display it\n",
    "from PIL import Image\n",
    "im = Image.open(INPUT_IMAGE)\n",
    "im.thumbnail((28, 28))\n",
    "tt =  im.convert('L')\n",
    "tt.save(SMALL_IMAGE)\n",
    "NBImage(SMALL_IMAGE)"
   ]
  },
  {
   "cell_type": "markdown",
   "metadata": {},
   "source": [
    "### Execute inference"
   ]
  },
  {
   "cell_type": "code",
   "execution_count": null,
   "metadata": {},
   "outputs": [],
   "source": [
    "# use the pre-trained LeNet model to finish the recogniation, and print out the result\n",
    "import caffe\n",
    "MODEL_FILE = './lenet.prototxt'\n",
    "PRETRAINED = './lenet_iter_10000.caffemodel'\n",
    "\n",
    "input_image = caffe.io.load_image(SMALL_IMAGE, color=False)\n",
    "net = caffe.Classifier(MODEL_FILE, PRETRAINED) \n",
    "prediction = net.predict([input_image], oversample = False)\n",
    "#caffe.set_mode_cpu()\n",
    "print 'predicted class:', prediction.argmax()\n"
   ]
  },
  {
   "cell_type": "code",
   "execution_count": null,
   "metadata": {},
   "outputs": [],
   "source": [
    "print prediction"
   ]
  }
 ],
 "metadata": {
  "kernelspec": {
   "display_name": "Python 2",
   "language": "python",
   "name": "python2"
  },
  "language_info": {
   "codemirror_mode": {
    "name": "ipython",
    "version": 2
   },
   "file_extension": ".py",
   "mimetype": "text/x-python",
   "name": "python",
   "nbconvert_exporter": "python",
   "pygments_lexer": "ipython2",
   "version": "2.7.12"
  }
 },
 "nbformat": 4,
 "nbformat_minor": 2
}
