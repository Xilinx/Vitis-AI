{
 "cells": [
  {
   "cell_type": "markdown",
   "metadata": {},
   "source": [
    "# LeNet Training with Cloud CPU"
   ]
  },
  {
   "cell_type": "markdown",
   "metadata": {},
   "source": [
    "This tutorial demonstrates the training steps of classic LeNet for hand-writing digits recognition. Caffe framework is used for the training and since the LeNet is a very simple one, we can use CPU to finish the training in short time. For other complex neurual networks, GPUs are generally used for the training."
   ]
  },
  {
   "cell_type": "markdown",
   "metadata": {},
   "source": [
    "## Training Data Preparation"
   ]
  },
  {
   "cell_type": "markdown",
   "metadata": {},
   "source": [
    "### Data Download\n",
    "Following data files need to be download from http://yann.lecun.com/exdb/mnist\n",
    "* t10k-images-idx3-ubyte\n",
    "* t10k-labels-idx1-ubyte\n",
    "* train-images-idx3-ubyte\n",
    "* train-labels-idx1-ubyte\n",
    "Here we use a shell scripts **get_mnist.sh** to get them prepared. The context of this file is as below:"
   ]
  },
  {
   "cell_type": "raw",
   "metadata": {},
   "source": [
    "#!/usr/bin/env sh\n",
    "# This scripts downloads the mnist data and unzips it.\n",
    "# **Note:** User is responsible for the use of the downloaded content and compliance with any copyright licenses.\n",
    "\n",
    "\n",
    "echo \"Downloading...\"\n",
    "\n",
    "for fname in train-images-idx3-ubyte train-labels-idx1-ubyte t10k-images-idx3-ubyte t10k-labels-idx1-ubyte\n",
    "do\n",
    "    if [ ! -e $fname ]; then\n",
    "        wget --no-check-certificate http://yann.lecun.com/exdb/mnist/${fname}.gz\n",
    "        gunzip ${fname}.gz\n",
    "    fi\n",
    "done\n"
   ]
  },
  {
   "cell_type": "code",
   "execution_count": null,
   "metadata": {},
   "outputs": [],
   "source": [
    "!./get_mnist.sh"
   ]
  },
  {
   "cell_type": "markdown",
   "metadata": {},
   "source": [
    "### Data Conversion\n",
    "We need to convert the downloaded training data to LMDB format using the script **create_mnist.sh**.\n",
    "The content of the script is as below:"
   ]
  },
  {
   "cell_type": "raw",
   "metadata": {},
   "source": [
    "#!/usr/bin/env sh\n",
    "# This script converts the mnist data into lmdb/leveldb format,\n",
    "# depending on the value assigned to $BACKEND.\n",
    "set -e\n",
    "\n",
    "BACKEND=\"lmdb\"\n",
    "\n",
    "echo \"Creating ${BACKEND}...\"\n",
    "\n",
    "rm -rf ./mnist_train_${BACKEND}\n",
    "rm -rf ./mnist_test_${BACKEND}\n",
    "\n",
    "\n",
    "\n",
    "./convert_mnist_data.bin ./train-images-idx3-ubyte ./train-labels-idx1-ubyte ./mnist_train_${BACKEND} --backend=${BACKEND}\n",
    "./convert_mnist_data.bin ./t10k-images-idx3-ubyte ./t10k-labels-idx1-ubyte ./mnist_test_${BACKEND} --backend=${BACKEND}\n",
    "\n",
    "echo \"Done.\"\n"
   ]
  },
  {
   "cell_type": "code",
   "execution_count": null,
   "metadata": {},
   "outputs": [],
   "source": [
    "!./create_mnist.sh"
   ]
  },
  {
   "cell_type": "markdown",
   "metadata": {},
   "source": [
    "### Training LeNet"
   ]
  },
  {
   "cell_type": "markdown",
   "metadata": {},
   "source": [
    "Run the script **train_lenet.sh** to start the training step. We will use CPU mode to finish the training, which is described in the file **lenet_solver.prototxt**. The training procedure will use a few minutes. The content of the script **train_lenet.sh** is as below:"
   ]
  },
  {
   "cell_type": "raw",
   "metadata": {},
   "source": [
    "#!/usr/bin/env sh\n",
    "set -e\n",
    "\n",
    "# CAFFE_ROOT is the root installation directory of caffe framework\n",
    "$CAFFE_ROOT/build/tools/caffe train --solver=./lenet_solver.prototxt $@"
   ]
  },
  {
   "cell_type": "code",
   "execution_count": null,
   "metadata": {},
   "outputs": [],
   "source": [
    "!./train_lenet.sh"
   ]
  },
  {
   "cell_type": "markdown",
   "metadata": {},
   "source": [
    "When the training process is done, we can begin the inference using CPU or Alveo U200 card."
   ]
  }
 ],
 "metadata": {
  "kernelspec": {
   "display_name": "Python 3",
   "language": "python",
   "name": "python3"
  },
  "language_info": {
   "codemirror_mode": {
    "name": "ipython",
    "version": 3
   },
   "file_extension": ".py",
   "mimetype": "text/x-python",
   "name": "python",
   "nbconvert_exporter": "python",
   "pygments_lexer": "ipython3",
   "version": "3.6.10"
  }
 },
 "nbformat": 4,
 "nbformat_minor": 2
}
